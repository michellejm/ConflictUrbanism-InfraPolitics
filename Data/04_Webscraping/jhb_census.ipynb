{
 "cells": [
  {
   "cell_type": "code",
   "execution_count": 1,
   "metadata": {
    "collapsed": true
   },
   "outputs": [],
   "source": [
    "import requests, bs4\n",
    "import pandas as pd\n",
    "import numpy as np\n",
    "from collections import defaultdict"
   ]
  },
  {
   "cell_type": "code",
   "execution_count": 2,
   "metadata": {
    "collapsed": true
   },
   "outputs": [],
   "source": [
    "category=['Male', 'Female', 'Black African', 'Coloured', 'Indian or Asian', 'White', 'Sepedi', 'isiZulu', 'Xitsonga', 'Setswana', 'Sesotho', 'isiXhosa', 'Tshivenda', 'English', 'isiNdebele', 'Sign language', 'Afrikaans', 'SiSwati']\n"
   ]
  },
  {
   "cell_type": "code",
   "execution_count": 3,
   "metadata": {
    "collapsed": true
   },
   "outputs": [],
   "source": [
    "sites=[]\n",
    "sitelist=[]\n",
    "subsitelist=[]\n"
   ]
  },
  {
   "cell_type": "code",
   "execution_count": 4,
   "metadata": {
    "collapsed": true
   },
   "outputs": [],
   "source": [
    "df=pd.DataFrame(columns=category)"
   ]
  },
  {
   "cell_type": "code",
   "execution_count": 5,
   "metadata": {},
   "outputs": [
    {
     "name": "stderr",
     "output_type": "stream",
     "text": [
      "/anaconda/lib/python3.6/site-packages/bs4/__init__.py:181: UserWarning: No parser was explicitly specified, so I'm using the best available HTML parser for this system (\"lxml\"). This usually isn't a problem, but if you run this code on another system, or in a different virtual environment, it may use a different parser and behave differently.\n",
      "\n",
      "The code that caused this warning is on line 193 of the file /anaconda/lib/python3.6/runpy.py. To get rid of this warning, change code that looks like this:\n",
      "\n",
      " BeautifulSoup(YOUR_MARKUP})\n",
      "\n",
      "to this:\n",
      "\n",
      " BeautifulSoup(YOUR_MARKUP, \"lxml\")\n",
      "\n",
      "  markup_type=markup_type))\n"
     ]
    }
   ],
   "source": [
    "page = requests.get(\"https://census2011.adrianfrith.com/place/798\")\n",
    "apage = bs4.BeautifulSoup(page.text)"
   ]
  },
  {
   "cell_type": "code",
   "execution_count": 6,
   "metadata": {
    "collapsed": true
   },
   "outputs": [],
   "source": [
    "for tr in apage.find_all('tr'):\n",
    "    aref = tr.find_all('a')\n",
    "    for a in aref:\n",
    "        sitelist.append(a.get('href'))"
   ]
  },
  {
   "cell_type": "code",
   "execution_count": 7,
   "metadata": {},
   "outputs": [
    {
     "name": "stdout",
     "output_type": "stream",
     "text": [
      "['/place/798014', '/place/798011', '/place/798002', '/place/798012', '/place/798003', '/place/798035', '/place/798007', '/place/798033', '/place/798017', '/place/798021', '/place/798006', '/place/798015', '/place/798005', '/place/798024', '/place/798039', '/place/798037', '/place/798019', '/place/798038', '/place/798029', '/place/798028', '/place/798032', '/place/798020', '/place/798001', '/place/798009', '/place/798004', '/place/798018', '/place/798034', '/place/798040', '/place/798008', '/place/798016', '/place/798027', '/place/798023', '/place/798022', '/place/798013', '/place/798026', '/place/798036', '/place/798025', '/place/798031', '/place/798030', '/place/798010']\n"
     ]
    }
   ],
   "source": [
    "print(sitelist)"
   ]
  },
  {
   "cell_type": "code",
   "execution_count": 11,
   "metadata": {},
   "outputs": [
    {
     "name": "stderr",
     "output_type": "stream",
     "text": [
      "/anaconda/lib/python3.6/site-packages/bs4/__init__.py:181: UserWarning: No parser was explicitly specified, so I'm using the best available HTML parser for this system (\"lxml\"). This usually isn't a problem, but if you run this code on another system, or in a different virtual environment, it may use a different parser and behave differently.\n",
      "\n",
      "The code that caused this warning is on line 193 of the file /anaconda/lib/python3.6/runpy.py. To get rid of this warning, change code that looks like this:\n",
      "\n",
      " BeautifulSoup(YOUR_MARKUP})\n",
      "\n",
      "to this:\n",
      "\n",
      " BeautifulSoup(YOUR_MARKUP, \"lxml\")\n",
      "\n",
      "  markup_type=markup_type))\n"
     ]
    },
    {
     "name": "stdout",
     "output_type": "stream",
     "text": [
      "['/place/798014056', '/place/798014048', '/place/798014053', '/place/798014061', '/place/798014045', '/place/798014066', '/place/798014062', '/place/798014046', '/place/798014051', '/place/798014073', '/place/798014047', '/place/798014054', '/place/798014052', '/place/798014074', '/place/798014067', '/place/798014072', '/place/798014069', '/place/798014070', '/place/798014068', '/place/798014071', '/place/798014065', '/place/798014049', '/place/798014057', '/place/798014077', '/place/798014078', '/place/798014037', '/place/798014038', '/place/798014010', '/place/798014063', '/place/798014064', '/place/798014039', '/place/798014027', '/place/798014060', '/place/798014026', '/place/798014025', '/place/798014028', '/place/798014029', '/place/798014030', '/place/798014031', '/place/798014032', '/place/798014033', '/place/798014055', '/place/798014076', '/place/798014034', '/place/798014035', '/place/798014036', '/place/798014019', '/place/798014020', '/place/798014021', '/place/798014022', '/place/798014023', '/place/798014024', '/place/798014011', '/place/798014058', '/place/798014012', '/place/798014013', '/place/798014014', '/place/798014015', '/place/798014016', '/place/798014017', '/place/798014018', '/place/798014075', '/place/798014041', '/place/798014042', '/place/798014059', '/place/798014050', '/place/798014040', '/place/798014008', '/place/798014044', '/place/798014005', '/place/798014007', '/place/798014003', '/place/798014006', '/place/798014043', '/place/798014004', '/place/798014001', '/place/798014002', '/place/798014009', '/place/798011002', '/place/798011001', '/place/798002004', '/place/798002003', '/place/798002001', '/place/798002002', '/place/798012001', '/place/798012003', '/place/798012002', '/place/798003012', '/place/798003011', '/place/798003001', '/place/798003002', '/place/798003008', '/place/798003006', '/place/798003009', '/place/798003007', '/place/798003010', '/place/798003004', '/place/798003003', '/place/798003005', '/place/798035003', '/place/798035005', '/place/798035002', '/place/798035001', '/place/798035007', '/place/798035006', '/place/798035004', '/place/798007004', '/place/798007002', '/place/798007003', '/place/798007001', '/place/798007006', '/place/798007007', '/place/798007005', '/place/798033001', '/place/798033009', '/place/798033008', '/place/798033003', '/place/798033004', '/place/798033007', '/place/798033012', '/place/798033002', '/place/798033010', '/place/798033006', '/place/798033013', '/place/798033011', '/place/798033005', '/place/798017001', '/place/798021001', '/place/798006004', '/place/798006002', '/place/798006001', '/place/798006008', '/place/798006009', '/place/798006006', '/place/798006007', '/place/798006005', '/place/798006003', '/place/798015049', '/place/798015166', '/place/798015203', '/place/798015222', '/place/798015132', '/place/798015216', '/place/798015098', '/place/798015057', '/place/798015195', '/place/798015080', '/place/798015079', '/place/798015119', '/place/798015082', '/place/798015085', '/place/798015076', '/place/798015045', '/place/798015043', '/place/798015160', '/place/798015161', '/place/798015016', '/place/798015012', '/place/798015103', '/place/798015074', '/place/798015006', '/place/798015058', '/place/798015190', '/place/798015122', '/place/798015146', '/place/798015117', '/place/798015205', '/place/798015023', '/place/798015105', '/place/798015100', '/place/798015107', '/place/798015104', '/place/798015138', '/place/798015168', '/place/798015139', '/place/798015133', '/place/798015013', '/place/798015073', '/place/798015118', '/place/798015208', '/place/798015075', '/place/798015087', '/place/798015200', '/place/798015027', '/place/798015141', '/place/798015026', '/place/798015224', '/place/798015206', '/place/798015155', '/place/798015217', '/place/798015211', '/place/798015154', '/place/798015169', '/place/798015037', '/place/798015035', '/place/798015033', '/place/798015114', '/place/798015042', '/place/798015069', '/place/798015064', '/place/798015124', '/place/798015126', '/place/798015185', '/place/798015068', '/place/798015024', '/place/798015005', '/place/798015209', '/place/798015143', '/place/798015191', '/place/798015194', '/place/798015148', '/place/798015032', '/place/798015036', '/place/798015196', '/place/798015007', '/place/798015008', '/place/798015041', '/place/798015188', '/place/798015052', '/place/798015144', '/place/798015083', '/place/798015039', '/place/798015088', '/place/798015131', '/place/798015048', '/place/798015096', '/place/798015108', '/place/798015106', '/place/798015102', '/place/798015115', '/place/798015201', '/place/798015089', '/place/798015077', '/place/798015175', '/place/798015112', '/place/798015018', '/place/798015014', '/place/798015210', '/place/798015221', '/place/798015066', '/place/798015001', '/place/798015157', '/place/798015197', '/place/798015212', '/place/798015003', '/place/798015110', '/place/798015149', '/place/798015215', '/place/798015187', '/place/798015028', '/place/798015071', '/place/798015183', '/place/798015010', '/place/798015011', '/place/798015129', '/place/798015009', '/place/798015084', '/place/798015025', '/place/798015116', '/place/798015123', '/place/798015094', '/place/798015059', '/place/798015127', '/place/798015109', '/place/798015223', '/place/798015046', '/place/798015047', '/place/798015091', '/place/798015202', '/place/798015002', '/place/798015179', '/place/798015152', '/place/798015198', '/place/798015070', '/place/798015213', '/place/798015218', '/place/798015220', '/place/798015164', '/place/798015207', '/place/798015135', '/place/798015086', '/place/798015125', '/place/798015121', '/place/798015061', '/place/798015184', '/place/798015050', '/place/798015072', '/place/798015137', '/place/798015062', '/place/798015060', '/place/798015163', '/place/798015165', '/place/798015130', '/place/798015128', '/place/798015159', '/place/798015067', '/place/798015038', '/place/798015142', '/place/798015158', '/place/798015055', '/place/798015078', '/place/798015015', '/place/798015150', '/place/798015021', '/place/798015022', '/place/798015173', '/place/798015178', '/place/798015090', '/place/798015167', '/place/798015182', '/place/798015214', '/place/798015140', '/place/798015065', '/place/798015170', '/place/798015151', '/place/798015176', '/place/798015145', '/place/798015097', '/place/798015053', '/place/798015034', '/place/798015040', '/place/798015019', '/place/798015134', '/place/798015031', '/place/798015219', '/place/798015171', '/place/798015199', '/place/798015180', '/place/798015111', '/place/798015147', '/place/798015156', '/place/798015193', '/place/798015029', '/place/798015056', '/place/798015054', '/place/798015051', '/place/798015177', '/place/798015162', '/place/798015004', '/place/798015189', '/place/798015204', '/place/798015093', '/place/798015113', '/place/798015181', '/place/798015186', '/place/798015174', '/place/798015099', '/place/798015153', '/place/798015063', '/place/798015030', '/place/798015136', '/place/798015101', '/place/798015044', '/place/798015095', '/place/798015092', '/place/798015020', '/place/798015172', '/place/798015192', '/place/798015017', '/place/798015120', '/place/798015081', '/place/798005014', '/place/798005016', '/place/798005015', '/place/798005009', '/place/798005008', '/place/798005007', '/place/798005006', '/place/798005005', '/place/798005004', '/place/798005012', '/place/798005013', '/place/798005001', '/place/798005011', '/place/798005002', '/place/798005010', '/place/798005017', '/place/798005003', '/place/798024001', '/place/798039001', '/place/798039002', '/place/798037003', '/place/798037002', '/place/798037001', '/place/798037004', '/place/798019001', '/place/798019002', '/place/798038002', '/place/798038001', '/place/798029001', '/place/798028011', '/place/798028001', '/place/798028013', '/place/798028007', '/place/798028002', '/place/798028009', '/place/798028008', '/place/798028003', '/place/798028010', '/place/798028004', '/place/798028005', '/place/798028006', '/place/798028012', '/place/798032001', '/place/798032003', '/place/798032004', '/place/798032005', '/place/798032007', '/place/798032002', '/place/798032006', '/place/798020001', '/place/798001001', '/place/798009001', '/place/798004034', '/place/798004030', '/place/798004031', '/place/798004002', '/place/798004029', '/place/798004001', '/place/798004008', '/place/798004020', '/place/798004039', '/place/798004004', '/place/798004007', '/place/798004009', '/place/798004013', '/place/798004035', '/place/798004015', '/place/798004032', '/place/798004017', '/place/798004016', '/place/798004019', '/place/798004018', '/place/798004011', '/place/798004010', '/place/798004023', '/place/798004025', '/place/798004027', '/place/798004024', '/place/798004021', '/place/798004006', '/place/798004037', '/place/798004033', '/place/798004005', '/place/798004014', '/place/798004012', '/place/798004003', '/place/798004038', '/place/798004022', '/place/798004028', '/place/798004036', '/place/798004026', '/place/798018001', '/place/798034007', '/place/798034002', '/place/798034008', '/place/798034005', '/place/798034006', '/place/798034004', '/place/798034003', '/place/798034001', '/place/798040001', '/place/798008002', '/place/798008001', '/place/798008004', '/place/798008003', '/place/798016073', '/place/798016076', '/place/798016053', '/place/798016012', '/place/798016050', '/place/798016085', '/place/798016023', '/place/798016052', '/place/798016036', '/place/798016006', '/place/798016035', '/place/798016030', '/place/798016092', '/place/798016029', '/place/798016026', '/place/798016001', '/place/798016089', '/place/798016100', '/place/798016058', '/place/798016057', '/place/798016046', '/place/798016025', '/place/798016054', '/place/798016087', '/place/798016059', '/place/798016072', '/place/798016078', '/place/798016049', '/place/798016034', '/place/798016097', '/place/798016040', '/place/798016070', '/place/798016063', '/place/798016080', '/place/798016074', '/place/798016009', '/place/798016019', '/place/798016004', '/place/798016091', '/place/798016044', '/place/798016008', '/place/798016015', '/place/798016048', '/place/798016024', '/place/798016005', '/place/798016095', '/place/798016055', '/place/798016032', '/place/798016088', '/place/798016007', '/place/798016090', '/place/798016077', '/place/798016069', '/place/798016039', '/place/798016002', '/place/798016093', '/place/798016075', '/place/798016010', '/place/798016051', '/place/798016013', '/place/798016011', '/place/798016018', '/place/798016014', '/place/798016016', '/place/798016061', '/place/798016060', '/place/798016082', '/place/798016064', '/place/798016056', '/place/798016067', '/place/798016038', '/place/798016084', '/place/798016096', '/place/798016041', '/place/798016031', '/place/798016068', '/place/798016003', '/place/798016094', '/place/798016066', '/place/798016037', '/place/798016043', '/place/798016065', '/place/798016033', '/place/798016081', '/place/798016017', '/place/798016027', '/place/798016098', '/place/798016028', '/place/798016020', '/place/798016021', '/place/798016079', '/place/798016022', '/place/798016062', '/place/798016071', '/place/798016083', '/place/798016086', '/place/798016099', '/place/798016045', '/place/798016042', '/place/798016047', '/place/798027001', '/place/798023001', '/place/798022021', '/place/798022029', '/place/798022012', '/place/798022016', '/place/798022020', '/place/798022041', '/place/798022031', '/place/798022002', '/place/798022064', '/place/798022058', '/place/798022050', '/place/798022063', '/place/798022014', '/place/798022044', '/place/798022049', '/place/798022047', '/place/798022045', '/place/798022067', '/place/798022048', '/place/798022043', '/place/798022046', '/place/798022065', '/place/798022059', '/place/798022066', '/place/798022038', '/place/798022037', '/place/798022025', '/place/798022033', '/place/798022026', '/place/798022040', '/place/798022039', '/place/798022005', '/place/798022015', '/place/798022032', '/place/798022013', '/place/798022036', '/place/798022022', '/place/798022055', '/place/798022062', '/place/798022001', '/place/798022004', '/place/798022042', '/place/798022019', '/place/798022035', '/place/798022034', '/place/798022027', '/place/798022052', '/place/798022024', '/place/798022008', '/place/798022057', '/place/798022056', '/place/798022054', '/place/798022009', '/place/798022011', '/place/798022051', '/place/798022003', '/place/798022028', '/place/798022053', '/place/798022010', '/place/798022030', '/place/798022061', '/place/798022017', '/place/798022018', '/place/798022023', '/place/798022060', '/place/798022006', '/place/798022007', '/place/798013055', '/place/798013052', '/place/798013004', '/place/798013062', '/place/798013054', '/place/798013001', '/place/798013014', '/place/798013020', '/place/798013058', '/place/798013033', '/place/798013013', '/place/798013027', '/place/798013041', '/place/798013024', '/place/798013011', '/place/798013005', '/place/798013021', '/place/798013023', '/place/798013050', '/place/798013037', '/place/798013035', '/place/798013051', '/place/798013061', '/place/798013060', '/place/798013059', '/place/798013022', '/place/798013002', '/place/798013015', '/place/798013042', '/place/798013008', '/place/798013048', '/place/798013007', '/place/798013034', '/place/798013010', '/place/798013043', '/place/798013047', '/place/798013029', '/place/798013026', '/place/798013025', '/place/798013036', '/place/798013012', '/place/798013031', '/place/798013038', '/place/798013009', '/place/798013016', '/place/798013030', '/place/798013028', '/place/798013017', '/place/798013057', '/place/798013045', '/place/798013046', '/place/798013003', '/place/798013044', '/place/798013018', '/place/798013039', '/place/798013032', '/place/798013040', '/place/798013056', '/place/798013049', '/place/798013006', '/place/798013019', '/place/798013053', '/place/798026009', '/place/798026006', '/place/798026005', '/place/798026022', '/place/798026007', '/place/798026020', '/place/798026019', '/place/798026003', '/place/798026002', '/place/798026004', '/place/798026085', '/place/798026086', '/place/798026087', '/place/798026081', '/place/798026088', '/place/798026065', '/place/798026075', '/place/798026064', '/place/798026040', '/place/798026036', '/place/798026038', '/place/798026034', '/place/798026035', '/place/798026039', '/place/798026041', '/place/798026018', '/place/798026028', '/place/798026027', '/place/798026052', '/place/798026051', '/place/798026050', '/place/798026053', '/place/798026054', '/place/798026025', '/place/798026024', '/place/798026045', '/place/798026055', '/place/798026091', '/place/798026060', '/place/798026048', '/place/798026090', '/place/798026043', '/place/798026074', '/place/798026093', '/place/798026082', '/place/798026014', '/place/798026015', '/place/798026029', '/place/798026030', '/place/798026031', '/place/798026017', '/place/798026016', '/place/798026013', '/place/798026012', '/place/798026011', '/place/798026010', '/place/798026061', '/place/798026046', '/place/798026044', '/place/798026059', '/place/798026058', '/place/798026063', '/place/798026062', '/place/798026076', '/place/798026056', '/place/798026079', '/place/798026033', '/place/798026037', '/place/798026032', '/place/798026083', '/place/798026068', '/place/798026067', '/place/798026071', '/place/798026072', '/place/798026073', '/place/798026069', '/place/798026070', '/place/798026066', '/place/798026042', '/place/798026078', '/place/798026080', '/place/798026089', '/place/798026084', '/place/798026023', '/place/798026001', '/place/798026008', '/place/798026021', '/place/798026077', '/place/798026026', '/place/798026057', '/place/798026094', '/place/798026092', '/place/798026049', '/place/798026047', '/place/798036009', '/place/798036005', '/place/798036006', '/place/798036004', '/place/798036007', '/place/798036003', '/place/798036002', '/place/798036001', '/place/798036008', '/place/798014056', '/place/798014048', '/place/798014053', '/place/798014061', '/place/798014045', '/place/798014066', '/place/798014062', '/place/798014046', '/place/798014051', '/place/798014073', '/place/798014047', '/place/798014054', '/place/798014052', '/place/798014074', '/place/798014067', '/place/798014072', '/place/798014069', '/place/798014070', '/place/798014068', '/place/798014071', '/place/798014065', '/place/798014049', '/place/798014057', '/place/798014077', '/place/798014078', '/place/798014037', '/place/798014038', '/place/798014010', '/place/798014063', '/place/798014064', '/place/798014039', '/place/798014027', '/place/798014060', '/place/798014026', '/place/798014025', '/place/798014028', '/place/798014029', '/place/798014030', '/place/798014031', '/place/798014032', '/place/798014033', '/place/798014055', '/place/798014076', '/place/798014034', '/place/798014035', '/place/798014036', '/place/798014019', '/place/798014020', '/place/798014021', '/place/798014022', '/place/798014023', '/place/798014024', '/place/798014011', '/place/798014058', '/place/798014012', '/place/798014013', '/place/798014014', '/place/798014015', '/place/798014016', '/place/798014017', '/place/798014018', '/place/798014075', '/place/798014041', '/place/798014042', '/place/798014059', '/place/798014050', '/place/798014040', '/place/798014008', '/place/798014044', '/place/798014005', '/place/798014007', '/place/798014003', '/place/798014006', '/place/798014043', '/place/798014004', '/place/798014001', '/place/798014002', '/place/798014009', '/place/798011002', '/place/798011001', '/place/798002004', '/place/798002003', '/place/798002001', '/place/798002002', '/place/798012001', '/place/798012003', '/place/798012002', '/place/798003012', '/place/798003011', '/place/798003001', '/place/798003002', '/place/798003008', '/place/798003006', '/place/798003009', '/place/798003007', '/place/798003010', '/place/798003004', '/place/798003003', '/place/798003005', '/place/798014056', '/place/798014048', '/place/798014053', '/place/798014061', '/place/798014045', '/place/798014066', '/place/798014062', '/place/798014046', '/place/798014051', '/place/798014073', '/place/798014047', '/place/798014054', '/place/798014052', '/place/798014074', '/place/798014067', '/place/798014072', '/place/798014069', '/place/798014070', '/place/798014068', '/place/798014071', '/place/798014065', '/place/798014049', '/place/798014057', '/place/798014077', '/place/798014078', '/place/798014037', '/place/798014038', '/place/798014010', '/place/798014063', '/place/798014064', '/place/798014039', '/place/798014027', '/place/798014060', '/place/798014026', '/place/798014025', '/place/798014028', '/place/798014029', '/place/798014030', '/place/798014031', '/place/798014032', '/place/798014033', '/place/798014055', '/place/798014076', '/place/798014034', '/place/798014035', '/place/798014036', '/place/798014019', '/place/798014020', '/place/798014021', '/place/798014022', '/place/798014023', '/place/798014024', '/place/798014011', '/place/798014058', '/place/798014012', '/place/798014013', '/place/798014014', '/place/798014015', '/place/798014016', '/place/798014017', '/place/798014018', '/place/798014075', '/place/798014041', '/place/798014042', '/place/798014059', '/place/798014050', '/place/798014040', '/place/798014008', '/place/798014044', '/place/798014005', '/place/798014007', '/place/798014003', '/place/798014006', '/place/798014043', '/place/798014004', '/place/798014001', '/place/798014002', '/place/798014009', '/place/798011002', '/place/798011001', '/place/798002004', '/place/798002003', '/place/798002001', '/place/798002002', '/place/798012001', '/place/798012003', '/place/798012002', '/place/798003012', '/place/798003011', '/place/798003001', '/place/798003002', '/place/798003008', '/place/798003006', '/place/798003009', '/place/798003007', '/place/798003010', '/place/798003004', '/place/798003003', '/place/798003005']\n"
     ]
    }
   ],
   "source": [
    "for site in sitelist[:5]:\n",
    "    bpage = requests.get(\"https://census2011.adrianfrith.com\"+site)\n",
    "    cpage = bs4.BeautifulSoup(bpage.text)\n",
    "    for tr in cpage.find_all('tr'):\n",
    "        aref = tr.find_all('a')\n",
    "        for a in aref:\n",
    "            subsitelist.append(a.get('href'))\n",
    "\n",
    "print(subsitelist)"
   ]
  },
  {
   "cell_type": "code",
   "execution_count": 17,
   "metadata": {},
   "outputs": [
    {
     "name": "stderr",
     "output_type": "stream",
     "text": [
      "/anaconda/lib/python3.6/site-packages/bs4/__init__.py:181: UserWarning: No parser was explicitly specified, so I'm using the best available HTML parser for this system (\"lxml\"). This usually isn't a problem, but if you run this code on another system, or in a different virtual environment, it may use a different parser and behave differently.\n",
      "\n",
      "The code that caused this warning is on line 193 of the file /anaconda/lib/python3.6/runpy.py. To get rid of this warning, change code that looks like this:\n",
      "\n",
      " BeautifulSoup(YOUR_MARKUP})\n",
      "\n",
      "to this:\n",
      "\n",
      " BeautifulSoup(YOUR_MARKUP, \"lxml\")\n",
      "\n",
      "  markup_type=markup_type))\n"
     ]
    }
   ],
   "source": [
    "for subsite in subsitelist[:5]:\n",
    "    dpage = requests.get(\"https://census2011.adrianfrith.com\"+subsite)\n",
    "    mypage = bs4.BeautifulSoup(dpage.text)\n",
    "    \n",
    "    locats=[]\n",
    "    elem = mypage.select('.topname')\n",
    "    locat=elem[0].getText()\n",
    "    locats.append(locat)\n",
    "    \n",
    "    mylist = []\n",
    "    for tr in mypage.find_all('tr'):\n",
    "        tds = tr.find_all('td')\n",
    "        for item in tds:\n",
    "            mylist.append(item.getText())\n",
    "\n",
    "    statlist = []\n",
    "    num = len(mylist)//3\n",
    "    for n in range(num):\n",
    "        x = n*3\n",
    "        y = 1+(n*3)\n",
    "        statlist.append((mylist[x], mylist[y]))\n",
    "\n",
    "    mydict = defaultdict(list)\n",
    "    \n",
    "    for k,v in statlist:\n",
    "        if k == \"Other\":\n",
    "            pass\n",
    "        elif k == \"Not applicable\":\n",
    "            pass\n",
    "        else:\n",
    "            mydict[k].append(v)\n",
    "            \n",
    "    df1 = pd.DataFrame.from_dict(mydict, orient='index').transpose()\n",
    "    se = pd.Series(locats)\n",
    "    df1['locID'] = se.values\n",
    "    df=df.append(df1).fillna(value=0)\n",
    "    "
   ]
  },
  {
   "cell_type": "code",
   "execution_count": 18,
   "metadata": {},
   "outputs": [
    {
     "name": "stdout",
     "output_type": "stream",
     "text": [
      "  Afrikaans Black African Coloured English Female Indian or Asian  Male  \\\n",
      "0        49          5240       21     147   2503               3  2764   \n",
      "0         5          1837        5      17    876               0   989   \n",
      "0        15           680        0      16    366               3   317   \n",
      "0         2           332        0       9    159               0   194   \n",
      "0         3          1154       10      17    560               0   604   \n",
      "\n",
      "  Sepedi Sesotho Setswana SiSwati Sign language Tshivenda White Xitsonga  \\\n",
      "0   1440     434      536      40            67       259     1      608   \n",
      "0    413     117      176      20             0       176     0      273   \n",
      "0    133     105      142       6             7        25     0       31   \n",
      "0     91      13       15       3             9         8     0       28   \n",
      "0    271     110       89      15             4        76     0       93   \n",
      "\n",
      "  isiNdebele isiXhosa isiZulu             locID  \n",
      "0        135      370    1163   Alexandra Ext 1  \n",
      "0         40      115     496  Alexandra Ext 10  \n",
      "0         14       25     161  Alexandra Ext 11  \n",
      "0         12       50     113  Alexandra Ext 12  \n",
      "0         44       78     358  Alexandra Ext 13  \n"
     ]
    }
   ],
   "source": [
    "print(df)"
   ]
  },
  {
   "cell_type": "code",
   "execution_count": null,
   "metadata": {},
   "outputs": [],
   "source": [
    "df.to_csv('data/jhb_census.csv')"
   ]
  },
  {
   "cell_type": "code",
   "execution_count": null,
   "metadata": {
    "collapsed": true
   },
   "outputs": [],
   "source": []
  }
 ],
 "metadata": {
  "kernelspec": {
   "display_name": "Python 3",
   "language": "python",
   "name": "python3"
  },
  "language_info": {
   "codemirror_mode": {
    "name": "ipython",
    "version": 3
   },
   "file_extension": ".py",
   "mimetype": "text/x-python",
   "name": "python",
   "nbconvert_exporter": "python",
   "pygments_lexer": "ipython3",
   "version": "3.6.1"
  }
 },
 "nbformat": 4,
 "nbformat_minor": 2
}
